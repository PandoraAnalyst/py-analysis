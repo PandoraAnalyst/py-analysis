{
 "cells": [
  {
   "cell_type": "markdown",
   "id": "b4186231",
   "metadata": {},
   "source": [
    "#### Pandas - Pandas Series & DataFrame"
   ]
  },
  {
   "cell_type": "code",
   "execution_count": 5,
   "id": "c0f003b5",
   "metadata": {},
   "outputs": [],
   "source": [
    "## Importing Pandas\n",
    "import pandas as pd"
   ]
  },
  {
   "cell_type": "code",
   "execution_count": null,
   "id": "9d3458f9",
   "metadata": {},
   "outputs": [
    {
     "name": "stdout",
     "output_type": "stream",
     "text": [
      "Series \n",
      " 0    1\n",
      "1    2\n",
      "2    3\n",
      "3    4\n",
      "4    5\n",
      "dtype: int64\n",
      "<class 'pandas.core.series.Series'>\n"
     ]
    }
   ],
   "source": [
    "## Pandas Series\n",
    "data=[1,2,3,4,5]\n",
    "series=pd.Series(data)\n",
    "print(\"Series \\n\",series)\n",
    "print(type(series))"
   ]
  },
  {
   "cell_type": "code",
   "execution_count": 3,
   "id": "5d7b4367",
   "metadata": {},
   "outputs": [
    {
     "name": "stdout",
     "output_type": "stream",
     "text": [
      "a    1\n",
      "b    2\n",
      "c    3\n",
      "dtype: int64\n"
     ]
    }
   ],
   "source": [
    "## Creating a Series from a dictionary\n",
    "data={'a':1,'b':2,'c':3}\n",
    "series_dict=pd.Series(data)\n",
    "print(series_dict)"
   ]
  },
  {
   "cell_type": "code",
   "execution_count": 7,
   "id": "39bac4d1",
   "metadata": {},
   "outputs": [
    {
     "name": "stdout",
     "output_type": "stream",
     "text": [
      "math       10\n",
      "science    20\n",
      "english    30\n",
      "econs      50\n",
      "dtype: int64\n"
     ]
    }
   ],
   "source": [
    "## Giving our desired index/index_name to a series\n",
    "data=[10,20,30, 50]\n",
    "series_result = pd.Series(data, index=['math', 'science', 'english', 'econs'])\n",
    "print(series_result)"
   ]
  },
  {
   "cell_type": "code",
   "execution_count": null,
   "id": "246c1ef0",
   "metadata": {},
   "outputs": [],
   "source": []
  },
  {
   "cell_type": "code",
   "execution_count": null,
   "id": "90c27d3d",
   "metadata": {},
   "outputs": [],
   "source": []
  }
 ],
 "metadata": {
  "kernelspec": {
   "display_name": "Python 3",
   "language": "python",
   "name": "python3"
  },
  "language_info": {
   "codemirror_mode": {
    "name": "ipython",
    "version": 3
   },
   "file_extension": ".py",
   "mimetype": "text/x-python",
   "name": "python",
   "nbconvert_exporter": "python",
   "pygments_lexer": "ipython3",
   "version": "3.12.0"
  }
 },
 "nbformat": 4,
 "nbformat_minor": 5
}
