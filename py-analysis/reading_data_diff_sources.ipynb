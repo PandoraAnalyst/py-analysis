{
 "cells": [
  {
   "cell_type": "markdown",
   "id": "1d9bb154",
   "metadata": {},
   "source": [
    "### Reading Data From Various Data Sources"
   ]
  },
  {
   "cell_type": "code",
   "execution_count": null,
   "id": "edb35ed0",
   "metadata": {},
   "outputs": [],
   "source": [
    "### Import Pandas first\n",
    "import pandas as pd"
   ]
  },
  {
   "cell_type": "code",
   "execution_count": null,
   "id": "b6204f93",
   "metadata": {},
   "outputs": [],
   "source": [
    "##Reading Data from JSON\n",
    "from io import StringIO\n",
    "## stringIO is string Input Output\n",
    "Data = '{\"employee_name\": \"James\", \"email\": \"james@gmail.com\", \"job_profile\": [{\"title1\":\"Team Lead\", \"title2\":\"Sr. Developer\"}]}'\n",
    "df=pd.read_json(StringIO(Data))"
   ]
  },
  {
   "cell_type": "code",
   "execution_count": 4,
   "id": "29d677f7",
   "metadata": {},
   "outputs": [
    {
     "data": {
      "application/vnd.microsoft.datawrangler.viewer.v0+json": {
       "columns": [
        {
         "name": "index",
         "rawType": "int64",
         "type": "integer"
        },
        {
         "name": "employee_name",
         "rawType": "object",
         "type": "string"
        },
        {
         "name": "email",
         "rawType": "object",
         "type": "string"
        },
        {
         "name": "job_profile",
         "rawType": "object",
         "type": "unknown"
        }
       ],
       "conversionMethod": "pd.DataFrame",
       "ref": "983176b0-fe31-4b7b-a288-212e7a6d5ba7",
       "rows": [
        [
         "0",
         "James",
         "james@gmail.com",
         "{'title1': 'Team Lead', 'title2': 'Sr. Developer'}"
        ]
       ],
       "shape": {
        "columns": 3,
        "rows": 1
       }
      },
      "text/html": [
       "<div>\n",
       "<style scoped>\n",
       "    .dataframe tbody tr th:only-of-type {\n",
       "        vertical-align: middle;\n",
       "    }\n",
       "\n",
       "    .dataframe tbody tr th {\n",
       "        vertical-align: top;\n",
       "    }\n",
       "\n",
       "    .dataframe thead th {\n",
       "        text-align: right;\n",
       "    }\n",
       "</style>\n",
       "<table border=\"1\" class=\"dataframe\">\n",
       "  <thead>\n",
       "    <tr style=\"text-align: right;\">\n",
       "      <th></th>\n",
       "      <th>employee_name</th>\n",
       "      <th>email</th>\n",
       "      <th>job_profile</th>\n",
       "    </tr>\n",
       "  </thead>\n",
       "  <tbody>\n",
       "    <tr>\n",
       "      <th>0</th>\n",
       "      <td>James</td>\n",
       "      <td>james@gmail.com</td>\n",
       "      <td>{'title1': 'Team Lead', 'title2': 'Sr. Develop...</td>\n",
       "    </tr>\n",
       "  </tbody>\n",
       "</table>\n",
       "</div>"
      ],
      "text/plain": [
       "  employee_name            email  \\\n",
       "0         James  james@gmail.com   \n",
       "\n",
       "                                         job_profile  \n",
       "0  {'title1': 'Team Lead', 'title2': 'Sr. Develop...  "
      ]
     },
     "execution_count": 4,
     "metadata": {},
     "output_type": "execute_result"
    }
   ],
   "source": [
    "df"
   ]
  },
  {
   "cell_type": "code",
   "execution_count": null,
   "id": "961a32f6",
   "metadata": {},
   "outputs": [
    {
     "data": {
      "text/plain": [
       "'{\"employee_name\":{\"0\":\"James\"},\"email\":{\"0\":\"james@gmail.com\"},\"job_profile\":{\"0\":{\"title1\":\"Team Lead\",\"title2\":\"Sr. Developer\"}}}'"
      ]
     },
     "execution_count": 5,
     "metadata": {},
     "output_type": "execute_result"
    }
   ],
   "source": [
    "## converting it back to JSON\n",
    "df.to_json()"
   ]
  },
  {
   "cell_type": "code",
   "execution_count": null,
   "id": "a27632e2",
   "metadata": {},
   "outputs": [],
   "source": [
    "## 'Orient='records'' is used to convert the data back to JSON using the exact key/value pairs, not zero indexes\n",
    "df.to_json(orient='records')"
   ]
  },
  {
   "cell_type": "code",
   "execution_count": null,
   "id": "8aaf09fa",
   "metadata": {},
   "outputs": [],
   "source": [
    "'''\n",
    "Before we can read data from an HTML url, we need to install a few dependencies.\n",
    "    1. lxml\n",
    "'''"
   ]
  },
  {
   "cell_type": "code",
   "execution_count": 7,
   "id": "716deb6f",
   "metadata": {},
   "outputs": [
    {
     "name": "stdout",
     "output_type": "stream",
     "text": [
      "Collecting lxml\n",
      "  Downloading lxml-5.4.0-cp312-cp312-win_amd64.whl.metadata (3.6 kB)\n",
      "Downloading lxml-5.4.0-cp312-cp312-win_amd64.whl (3.8 MB)\n",
      "   ---------------------------------------- 0.0/3.8 MB ? eta -:--:--\n",
      "   ---------------------------------------- 0.0/3.8 MB ? eta -:--:--\n",
      "   ---------------------------------------- 0.0/3.8 MB ? eta -:--:--\n",
      "   ---------------------------------------- 0.0/3.8 MB ? eta -:--:--\n",
      "   ---------------------------------------- 0.0/3.8 MB ? eta -:--:--\n",
      "   ---------------------------------------- 0.0/3.8 MB ? eta -:--:--\n",
      "   ---------------------------------------- 0.0/3.8 MB ? eta -:--:--\n",
      "   ---------------------------------------- 0.0/3.8 MB ? eta -:--:--\n",
      "   ---------------------------------------- 0.0/3.8 MB ? eta -:--:--\n",
      "   ---------------------------------------- 0.0/3.8 MB ? eta -:--:--\n",
      "   ---------------------------------------- 0.0/3.8 MB ? eta -:--:--\n",
      "   -- ------------------------------------- 0.3/3.8 MB ? eta -:--:--\n",
      "   -- ------------------------------------- 0.3/3.8 MB ? eta -:--:--\n",
      "   -- ------------------------------------- 0.3/3.8 MB ? eta -:--:--\n",
      "   -- ------------------------------------- 0.3/3.8 MB ? eta -:--:--\n",
      "   -- ------------------------------------- 0.3/3.8 MB ? eta -:--:--\n",
      "   -- ------------------------------------- 0.3/3.8 MB ? eta -:--:--\n",
      "   -- ------------------------------------- 0.3/3.8 MB ? eta -:--:--\n",
      "   -- ------------------------------------- 0.3/3.8 MB ? eta -:--:--\n",
      "   ----- ---------------------------------- 0.5/3.8 MB 153.9 kB/s eta 0:00:22\n",
      "   ----- ---------------------------------- 0.5/3.8 MB 153.9 kB/s eta 0:00:22\n",
      "   ----- ---------------------------------- 0.5/3.8 MB 153.9 kB/s eta 0:00:22\n",
      "   ----- ---------------------------------- 0.5/3.8 MB 153.9 kB/s eta 0:00:22\n",
      "   ----- ---------------------------------- 0.5/3.8 MB 153.9 kB/s eta 0:00:22\n",
      "   ----- ---------------------------------- 0.5/3.8 MB 153.9 kB/s eta 0:00:22\n",
      "   ----- ---------------------------------- 0.5/3.8 MB 153.9 kB/s eta 0:00:22\n",
      "   ----- ---------------------------------- 0.5/3.8 MB 153.9 kB/s eta 0:00:22\n",
      "   -------- ------------------------------- 0.8/3.8 MB 153.9 kB/s eta 0:00:20\n",
      "   -------- ------------------------------- 0.8/3.8 MB 153.9 kB/s eta 0:00:20\n",
      "   -------- ------------------------------- 0.8/3.8 MB 153.9 kB/s eta 0:00:20\n",
      "   -------- ------------------------------- 0.8/3.8 MB 153.9 kB/s eta 0:00:20\n",
      "   -------- ------------------------------- 0.8/3.8 MB 153.9 kB/s eta 0:00:20\n",
      "   -------- ------------------------------- 0.8/3.8 MB 153.9 kB/s eta 0:00:20\n",
      "   -------- ------------------------------- 0.8/3.8 MB 153.9 kB/s eta 0:00:20\n",
      "   -------- ------------------------------- 0.8/3.8 MB 153.9 kB/s eta 0:00:20\n",
      "   ---------- ----------------------------- 1.0/3.8 MB 152.1 kB/s eta 0:00:19\n",
      "   ---------- ----------------------------- 1.0/3.8 MB 152.1 kB/s eta 0:00:19\n",
      "   ---------- ----------------------------- 1.0/3.8 MB 152.1 kB/s eta 0:00:19\n",
      "   ---------- ----------------------------- 1.0/3.8 MB 152.1 kB/s eta 0:00:19\n",
      "   ---------- ----------------------------- 1.0/3.8 MB 152.1 kB/s eta 0:00:19\n",
      "   ---------- ----------------------------- 1.0/3.8 MB 152.1 kB/s eta 0:00:19\n",
      "   ---------- ----------------------------- 1.0/3.8 MB 152.1 kB/s eta 0:00:19\n",
      "   ------------- -------------------------- 1.3/3.8 MB 157.2 kB/s eta 0:00:16\n",
      "   ------------- -------------------------- 1.3/3.8 MB 157.2 kB/s eta 0:00:16\n",
      "   ------------- -------------------------- 1.3/3.8 MB 157.2 kB/s eta 0:00:16\n",
      "   ------------- -------------------------- 1.3/3.8 MB 157.2 kB/s eta 0:00:16\n",
      "   ------------- -------------------------- 1.3/3.8 MB 157.2 kB/s eta 0:00:16\n",
      "   ------------- -------------------------- 1.3/3.8 MB 157.2 kB/s eta 0:00:16\n",
      "   ---------------- ----------------------- 1.6/3.8 MB 163.8 kB/s eta 0:00:14\n",
      "   ---------------- ----------------------- 1.6/3.8 MB 163.8 kB/s eta 0:00:14\n",
      "   ---------------- ----------------------- 1.6/3.8 MB 163.8 kB/s eta 0:00:14\n",
      "   ---------------- ----------------------- 1.6/3.8 MB 163.8 kB/s eta 0:00:14\n",
      "   ---------------- ----------------------- 1.6/3.8 MB 163.8 kB/s eta 0:00:14\n",
      "   ---------------- ----------------------- 1.6/3.8 MB 163.8 kB/s eta 0:00:14\n",
      "   ------------------- -------------------- 1.8/3.8 MB 169.5 kB/s eta 0:00:12\n",
      "   ------------------- -------------------- 1.8/3.8 MB 169.5 kB/s eta 0:00:12\n",
      "   ------------------- -------------------- 1.8/3.8 MB 169.5 kB/s eta 0:00:12\n",
      "   ------------------- -------------------- 1.8/3.8 MB 169.5 kB/s eta 0:00:12\n",
      "   ------------------- -------------------- 1.8/3.8 MB 169.5 kB/s eta 0:00:12\n",
      "   ------------------- -------------------- 1.8/3.8 MB 169.5 kB/s eta 0:00:12\n",
      "   --------------------- ------------------ 2.1/3.8 MB 174.0 kB/s eta 0:00:10\n",
      "   --------------------- ------------------ 2.1/3.8 MB 174.0 kB/s eta 0:00:10\n",
      "   --------------------- ------------------ 2.1/3.8 MB 174.0 kB/s eta 0:00:10\n",
      "   --------------------- ------------------ 2.1/3.8 MB 174.0 kB/s eta 0:00:10\n",
      "   --------------------- ------------------ 2.1/3.8 MB 174.0 kB/s eta 0:00:10\n",
      "   --------------------- ------------------ 2.1/3.8 MB 174.0 kB/s eta 0:00:10\n",
      "   ------------------------ --------------- 2.4/3.8 MB 176.8 kB/s eta 0:00:09\n",
      "   ------------------------ --------------- 2.4/3.8 MB 176.8 kB/s eta 0:00:09\n",
      "   ------------------------ --------------- 2.4/3.8 MB 176.8 kB/s eta 0:00:09\n",
      "   --------------------------- ------------ 2.6/3.8 MB 187.1 kB/s eta 0:00:07\n",
      "   --------------------------- ------------ 2.6/3.8 MB 187.1 kB/s eta 0:00:07\n",
      "   --------------------------- ------------ 2.6/3.8 MB 187.1 kB/s eta 0:00:07\n",
      "   ------------------------------ --------- 2.9/3.8 MB 198.8 kB/s eta 0:00:05\n",
      "   ------------------------------ --------- 2.9/3.8 MB 198.8 kB/s eta 0:00:05\n",
      "   ------------------------------ --------- 2.9/3.8 MB 198.8 kB/s eta 0:00:05\n",
      "   -------------------------------- ------- 3.1/3.8 MB 207.4 kB/s eta 0:00:04\n",
      "   -------------------------------- ------- 3.1/3.8 MB 207.4 kB/s eta 0:00:04\n",
      "   -------------------------------- ------- 3.1/3.8 MB 207.4 kB/s eta 0:00:04\n",
      "   ----------------------------------- ---- 3.4/3.8 MB 219.1 kB/s eta 0:00:02\n",
      "   -------------------------------------- - 3.7/3.8 MB 233.3 kB/s eta 0:00:01\n",
      "   ---------------------------------------- 3.8/3.8 MB 239.2 kB/s eta 0:00:00\n",
      "Installing collected packages: lxml\n",
      "Successfully installed lxml-5.4.0\n"
     ]
    }
   ],
   "source": [
    "!pip install lxml"
   ]
  },
  {
   "cell_type": "code",
   "execution_count": 8,
   "id": "ba58709a",
   "metadata": {},
   "outputs": [],
   "source": [
    "## Reading data from an HTML site\n",
    "url=\"https://www.fdic.gov/resources/resolutions/bank-failures/failed-bank-list/\"\n",
    "df=pd.read_html(url)"
   ]
  },
  {
   "cell_type": "code",
   "execution_count": 11,
   "id": "474ac1bf",
   "metadata": {},
   "outputs": [
    {
     "data": {
      "application/vnd.microsoft.datawrangler.viewer.v0+json": {
       "columns": [
        {
         "name": "index",
         "rawType": "int64",
         "type": "integer"
        },
        {
         "name": "Bank Name",
         "rawType": "object",
         "type": "string"
        },
        {
         "name": "City",
         "rawType": "object",
         "type": "string"
        },
        {
         "name": "State",
         "rawType": "object",
         "type": "string"
        },
        {
         "name": "Cert",
         "rawType": "int64",
         "type": "integer"
        },
        {
         "name": "Acquiring Institution",
         "rawType": "object",
         "type": "string"
        },
        {
         "name": "Closing Date",
         "rawType": "object",
         "type": "string"
        },
        {
         "name": "Fund  Sort ascending",
         "rawType": "int64",
         "type": "integer"
        }
       ],
       "conversionMethod": "pd.DataFrame",
       "ref": "87380b6e-3f59-4e51-92b6-96e7536e23f3",
       "rows": [
        [
         "0",
         "Pulaski Savings Bank",
         "Chicago",
         "Illinois",
         "28611",
         "Millennium Bank",
         "January 17, 2025",
         "10548"
        ],
        [
         "1",
         "The First National Bank of Lindsay",
         "Lindsay",
         "Oklahoma",
         "4134",
         "First Bank & Trust Co., Duncan, OK",
         "October 18, 2024",
         "10547"
        ],
        [
         "2",
         "Republic First Bank dba Republic Bank",
         "Philadelphia",
         "Pennsylvania",
         "27332",
         "Fulton Bank, National Association",
         "April 26, 2024",
         "10546"
        ],
        [
         "3",
         "Citizens Bank",
         "Sac City",
         "Iowa",
         "8758",
         "Iowa Trust & Savings Bank",
         "November 3, 2023",
         "10545"
        ],
        [
         "4",
         "Heartland Tri-State Bank",
         "Elkhart",
         "Kansas",
         "25851",
         "Dream First Bank, N.A.",
         "July 28, 2023",
         "10544"
        ],
        [
         "5",
         "First Republic Bank",
         "San Francisco",
         "California",
         "59017",
         "JPMorgan Chase Bank, N.A.",
         "May 1, 2023",
         "10543"
        ],
        [
         "6",
         "Signature Bank",
         "New York",
         "New York",
         "57053",
         "Flagstar Bank, N.A.",
         "March 12, 2023",
         "10540"
        ],
        [
         "7",
         "Silicon Valley Bank",
         "Santa Clara",
         "California",
         "24735",
         "First Citizens Bank & Trust Company",
         "March 10, 2023",
         "10539"
        ],
        [
         "8",
         "Almena State Bank",
         "Almena",
         "Kansas",
         "15426",
         "Equity Bank",
         "October 23, 2020",
         "10538"
        ],
        [
         "9",
         "First City Bank of Florida",
         "Fort Walton Beach",
         "Florida",
         "16748",
         "United Fidelity Bank, fsb",
         "October 16, 2020",
         "10537"
        ]
       ],
       "shape": {
        "columns": 7,
        "rows": 10
       }
      },
      "text/html": [
       "<div>\n",
       "<style scoped>\n",
       "    .dataframe tbody tr th:only-of-type {\n",
       "        vertical-align: middle;\n",
       "    }\n",
       "\n",
       "    .dataframe tbody tr th {\n",
       "        vertical-align: top;\n",
       "    }\n",
       "\n",
       "    .dataframe thead th {\n",
       "        text-align: right;\n",
       "    }\n",
       "</style>\n",
       "<table border=\"1\" class=\"dataframe\">\n",
       "  <thead>\n",
       "    <tr style=\"text-align: right;\">\n",
       "      <th></th>\n",
       "      <th>Bank Name</th>\n",
       "      <th>City</th>\n",
       "      <th>State</th>\n",
       "      <th>Cert</th>\n",
       "      <th>Acquiring Institution</th>\n",
       "      <th>Closing Date</th>\n",
       "      <th>Fund  Sort ascending</th>\n",
       "    </tr>\n",
       "  </thead>\n",
       "  <tbody>\n",
       "    <tr>\n",
       "      <th>0</th>\n",
       "      <td>Pulaski Savings Bank</td>\n",
       "      <td>Chicago</td>\n",
       "      <td>Illinois</td>\n",
       "      <td>28611</td>\n",
       "      <td>Millennium Bank</td>\n",
       "      <td>January 17, 2025</td>\n",
       "      <td>10548</td>\n",
       "    </tr>\n",
       "    <tr>\n",
       "      <th>1</th>\n",
       "      <td>The First National Bank of Lindsay</td>\n",
       "      <td>Lindsay</td>\n",
       "      <td>Oklahoma</td>\n",
       "      <td>4134</td>\n",
       "      <td>First Bank &amp; Trust Co., Duncan, OK</td>\n",
       "      <td>October 18, 2024</td>\n",
       "      <td>10547</td>\n",
       "    </tr>\n",
       "    <tr>\n",
       "      <th>2</th>\n",
       "      <td>Republic First Bank dba Republic Bank</td>\n",
       "      <td>Philadelphia</td>\n",
       "      <td>Pennsylvania</td>\n",
       "      <td>27332</td>\n",
       "      <td>Fulton Bank, National Association</td>\n",
       "      <td>April 26, 2024</td>\n",
       "      <td>10546</td>\n",
       "    </tr>\n",
       "    <tr>\n",
       "      <th>3</th>\n",
       "      <td>Citizens Bank</td>\n",
       "      <td>Sac City</td>\n",
       "      <td>Iowa</td>\n",
       "      <td>8758</td>\n",
       "      <td>Iowa Trust &amp; Savings Bank</td>\n",
       "      <td>November 3, 2023</td>\n",
       "      <td>10545</td>\n",
       "    </tr>\n",
       "    <tr>\n",
       "      <th>4</th>\n",
       "      <td>Heartland Tri-State Bank</td>\n",
       "      <td>Elkhart</td>\n",
       "      <td>Kansas</td>\n",
       "      <td>25851</td>\n",
       "      <td>Dream First Bank, N.A.</td>\n",
       "      <td>July 28, 2023</td>\n",
       "      <td>10544</td>\n",
       "    </tr>\n",
       "    <tr>\n",
       "      <th>5</th>\n",
       "      <td>First Republic Bank</td>\n",
       "      <td>San Francisco</td>\n",
       "      <td>California</td>\n",
       "      <td>59017</td>\n",
       "      <td>JPMorgan Chase Bank, N.A.</td>\n",
       "      <td>May 1, 2023</td>\n",
       "      <td>10543</td>\n",
       "    </tr>\n",
       "    <tr>\n",
       "      <th>6</th>\n",
       "      <td>Signature Bank</td>\n",
       "      <td>New York</td>\n",
       "      <td>New York</td>\n",
       "      <td>57053</td>\n",
       "      <td>Flagstar Bank, N.A.</td>\n",
       "      <td>March 12, 2023</td>\n",
       "      <td>10540</td>\n",
       "    </tr>\n",
       "    <tr>\n",
       "      <th>7</th>\n",
       "      <td>Silicon Valley Bank</td>\n",
       "      <td>Santa Clara</td>\n",
       "      <td>California</td>\n",
       "      <td>24735</td>\n",
       "      <td>First Citizens Bank &amp; Trust Company</td>\n",
       "      <td>March 10, 2023</td>\n",
       "      <td>10539</td>\n",
       "    </tr>\n",
       "    <tr>\n",
       "      <th>8</th>\n",
       "      <td>Almena State Bank</td>\n",
       "      <td>Almena</td>\n",
       "      <td>Kansas</td>\n",
       "      <td>15426</td>\n",
       "      <td>Equity Bank</td>\n",
       "      <td>October 23, 2020</td>\n",
       "      <td>10538</td>\n",
       "    </tr>\n",
       "    <tr>\n",
       "      <th>9</th>\n",
       "      <td>First City Bank of Florida</td>\n",
       "      <td>Fort Walton Beach</td>\n",
       "      <td>Florida</td>\n",
       "      <td>16748</td>\n",
       "      <td>United Fidelity Bank, fsb</td>\n",
       "      <td>October 16, 2020</td>\n",
       "      <td>10537</td>\n",
       "    </tr>\n",
       "  </tbody>\n",
       "</table>\n",
       "</div>"
      ],
      "text/plain": [
       "                               Bank Name               City         State  \\\n",
       "0                   Pulaski Savings Bank            Chicago      Illinois   \n",
       "1     The First National Bank of Lindsay            Lindsay      Oklahoma   \n",
       "2  Republic First Bank dba Republic Bank       Philadelphia  Pennsylvania   \n",
       "3                          Citizens Bank           Sac City          Iowa   \n",
       "4               Heartland Tri-State Bank            Elkhart        Kansas   \n",
       "5                    First Republic Bank      San Francisco    California   \n",
       "6                         Signature Bank           New York      New York   \n",
       "7                    Silicon Valley Bank        Santa Clara    California   \n",
       "8                      Almena State Bank             Almena        Kansas   \n",
       "9             First City Bank of Florida  Fort Walton Beach       Florida   \n",
       "\n",
       "    Cert                Acquiring Institution      Closing Date  \\\n",
       "0  28611                      Millennium Bank  January 17, 2025   \n",
       "1   4134   First Bank & Trust Co., Duncan, OK  October 18, 2024   \n",
       "2  27332    Fulton Bank, National Association    April 26, 2024   \n",
       "3   8758            Iowa Trust & Savings Bank  November 3, 2023   \n",
       "4  25851               Dream First Bank, N.A.     July 28, 2023   \n",
       "5  59017            JPMorgan Chase Bank, N.A.       May 1, 2023   \n",
       "6  57053                  Flagstar Bank, N.A.    March 12, 2023   \n",
       "7  24735  First Citizens Bank & Trust Company    March 10, 2023   \n",
       "8  15426                          Equity Bank  October 23, 2020   \n",
       "9  16748            United Fidelity Bank, fsb  October 16, 2020   \n",
       "\n",
       "   Fund  Sort ascending  \n",
       "0                 10548  \n",
       "1                 10547  \n",
       "2                 10546  \n",
       "3                 10545  \n",
       "4                 10544  \n",
       "5                 10543  \n",
       "6                 10540  \n",
       "7                 10539  \n",
       "8                 10538  \n",
       "9                 10537  "
      ]
     },
     "execution_count": 11,
     "metadata": {},
     "output_type": "execute_result"
    }
   ],
   "source": [
    "df[0]"
   ]
  },
  {
   "cell_type": "code",
   "execution_count": 12,
   "id": "7cc3a732",
   "metadata": {},
   "outputs": [
    {
     "data": {
      "application/vnd.microsoft.datawrangler.viewer.v0+json": {
       "columns": [
        {
         "name": "index",
         "rawType": "int64",
         "type": "integer"
        },
        {
         "name": "Mobile country code",
         "rawType": "int64",
         "type": "integer"
        },
        {
         "name": "Country",
         "rawType": "object",
         "type": "string"
        },
        {
         "name": "ISO 3166",
         "rawType": "object",
         "type": "unknown"
        },
        {
         "name": "Mobile network codes",
         "rawType": "object",
         "type": "string"
        },
        {
         "name": "National MNC authority",
         "rawType": "object",
         "type": "unknown"
        },
        {
         "name": "Remarks",
         "rawType": "object",
         "type": "unknown"
        }
       ],
       "conversionMethod": "pd.DataFrame",
       "ref": "16dabcf3-2c5d-4638-a013-35e738e2a868",
       "rows": [
        [
         "0",
         "289",
         "A Abkhazia",
         "GE-AB",
         "List of mobile network codes in Abkhazia",
         null,
         "MCC is not listed by ITU"
        ],
        [
         "1",
         "412",
         "Afghanistan",
         "AF",
         "List of mobile network codes in Afghanistan",
         null,
         null
        ],
        [
         "2",
         "276",
         "Albania",
         "AL",
         "List of mobile network codes in Albania",
         null,
         null
        ],
        [
         "3",
         "603",
         "Algeria",
         "DZ",
         "List of mobile network codes in Algeria",
         null,
         null
        ],
        [
         "4",
         "544",
         "American Samoa (United States of America)",
         "AS",
         "List of mobile network codes in American Samoa",
         null,
         null
        ],
        [
         "5",
         "213",
         "Andorra",
         "AD",
         "List of mobile network codes in Andorra",
         null,
         null
        ],
        [
         "6",
         "631",
         "Angola",
         "AO",
         "List of mobile network codes in Angola",
         null,
         null
        ],
        [
         "7",
         "365",
         "Anguilla (United Kingdom)",
         "AI",
         "List of mobile network codes in Anguilla",
         "Public Utilities Commission (PUC)[7]",
         null
        ],
        [
         "8",
         "344",
         "Antigua and Barbuda",
         "AG",
         "List of mobile network codes in Antigua and Barbuda",
         null,
         null
        ],
        [
         "9",
         "722",
         "Argentina",
         "AR",
         "List of mobile network codes in Argentina",
         null,
         null
        ],
        [
         "10",
         "283",
         "Armenia",
         "AM",
         "List of mobile network codes in Armenia",
         null,
         null
        ],
        [
         "11",
         "363",
         "Aruba",
         "AW",
         "List of mobile network codes in Aruba",
         null,
         null
        ],
        [
         "12",
         "505",
         "Australia",
         "AU",
         "List of mobile network codes in Australia",
         null,
         null
        ],
        [
         "13",
         "232",
         "Austria",
         "AT",
         "List of mobile network codes in Austria",
         "Rundfunk- und Telekom Regulierungs-GmbH (RTR-GmbH)[8]",
         null
        ],
        [
         "14",
         "400",
         "Azerbaijan",
         "AZ",
         "List of mobile network codes in Azerbaijan",
         null,
         null
        ],
        [
         "15",
         "364",
         "B Bahamas",
         "BS",
         "List of mobile network codes in Bahamas",
         "Utilities Regulation & Competition Authority (URCA)[9]",
         null
        ],
        [
         "16",
         "426",
         "Bahrain",
         "BH",
         "List of mobile network codes in Bahrain",
         null,
         null
        ],
        [
         "17",
         "470",
         "Bangladesh",
         "BD",
         "List of mobile network codes in Bangladesh",
         "Bangladesh Telecommunication Regulatory Commission",
         null
        ],
        [
         "18",
         "342",
         "Barbados",
         "BB",
         "List of mobile network codes in Barbados",
         null,
         null
        ],
        [
         "19",
         "257",
         "Belarus",
         "BY",
         "List of mobile network codes in Belarus",
         null,
         null
        ],
        [
         "20",
         "206",
         "Belgium",
         "BE",
         "List of mobile network codes in Belgium",
         "Belgian Institute for Postal services and Telecommunications (BIPT)[10]",
         null
        ],
        [
         "21",
         "702",
         "Belize",
         "BZ",
         "List of mobile network codes in Belize",
         null,
         null
        ],
        [
         "22",
         "616",
         "Benin",
         "BJ",
         "List of mobile network codes in Benin",
         null,
         null
        ],
        [
         "23",
         "350",
         "Bermuda",
         "BM",
         "List of mobile network codes in Bermuda",
         null,
         null
        ],
        [
         "24",
         "402",
         "Bhutan",
         "BT",
         "List of mobile network codes in Bhutan",
         null,
         null
        ],
        [
         "25",
         "736",
         "Bolivia",
         "BO",
         "List of mobile network codes in Bolivia",
         null,
         null
        ],
        [
         "26",
         "362",
         "Bonaire, Sint Eustatius and Saba",
         "BQ",
         "List of mobile network codes in the former Netherlands Antilles",
         null,
         null
        ],
        [
         "27",
         "218",
         "Bosnia and Herzegovina",
         "BA",
         "List of mobile network codes in Bosnia and Herzegovina",
         null,
         null
        ],
        [
         "28",
         "652",
         "Botswana",
         "BW",
         "List of mobile network codes in Botswana",
         "Botswana Communications Regulatory Authority (BOCRA)[11]",
         null
        ],
        [
         "29",
         "724",
         "Brazil",
         "BR",
         "List of mobile network codes in Brazil",
         null,
         null
        ],
        [
         "30",
         "995",
         "British Indian Ocean Territory (United Kingdom)",
         "IO",
         "List of mobile networks in the British Indian Ocean Territory",
         null,
         "MCC is not listed by ITU"
        ],
        [
         "31",
         "348",
         "British Virgin Islands (United Kingdom)",
         "VG",
         "List of mobile network codes in the British Virgin Islands",
         null,
         null
        ],
        [
         "32",
         "528",
         "Brunei",
         "BN",
         "List of mobile network codes in Brunei",
         null,
         null
        ],
        [
         "33",
         "284",
         "Bulgaria",
         "BG",
         "List of mobile network codes in Bulgaria",
         "Communications Regulation Commission (CRC)[12]",
         null
        ],
        [
         "34",
         "613",
         "Burkina Faso",
         "BF",
         "List of mobile network codes in Burkina Faso",
         "Autorité de régulation des communications électroniques et des postes (ARCEP)[13]",
         null
        ],
        [
         "35",
         "642",
         "Burundi",
         "BI",
         "List of mobile network codes in Burundi",
         "Agence de Régulation et de Contrôle des Télécommunications (ARCT)[14]",
         null
        ],
        [
         "36",
         "456",
         "C Cambodia",
         "KH",
         "List of mobile network codes in Cambodia",
         null,
         null
        ],
        [
         "37",
         "624",
         "Cameroon",
         "CM",
         "List of mobile network codes in Cameroon",
         null,
         null
        ],
        [
         "38",
         "302",
         "Canada",
         "CA",
         "List of mobile network codes in Canada",
         "Canadian Numbering Administrator [15]",
         null
        ],
        [
         "39",
         "625",
         "Cape Verde",
         "CV",
         "List of mobile network codes in Cape Verde",
         null,
         null
        ],
        [
         "40",
         "346",
         "Cayman Islands (United Kingdom)",
         "KY",
         "List of mobile network codes in the Cayman Islands",
         null,
         null
        ],
        [
         "41",
         "623",
         "Central African Republic",
         "CF",
         "List of mobile network codes in the Central African Republic",
         null,
         null
        ],
        [
         "42",
         "622",
         "Chad",
         "TD",
         "List of mobile network codes in Chad",
         null,
         null
        ],
        [
         "43",
         "730",
         "Chile",
         "CL",
         "List of mobile network codes in Chile",
         null,
         null
        ],
        [
         "44",
         "460",
         "China",
         "CN",
         "List of mobile network codes in China",
         null,
         null
        ],
        [
         "45",
         "461",
         "China",
         "CN",
         "List of mobile network codes in China",
         null,
         "no networks yet"
        ],
        [
         "46",
         "732",
         "Colombia",
         "CO",
         "List of mobile network codes in Colombia",
         "Comisión de Regulación de Comunicaciones (CRC)[16]",
         null
        ],
        [
         "47",
         "654",
         "Comoros",
         "KM",
         "List of mobile network codes in Comoros",
         null,
         null
        ],
        [
         "48",
         "629",
         "Congo",
         "CG",
         "List of mobile network codes in Congo",
         null,
         null
        ],
        [
         "49",
         "548",
         "Cook Islands (Pacific Ocean)",
         "CK",
         "List of mobile network codes in the Cook Islands",
         null,
         null
        ]
       ],
       "shape": {
        "columns": 6,
        "rows": 252
       }
      },
      "text/html": [
       "<div>\n",
       "<style scoped>\n",
       "    .dataframe tbody tr th:only-of-type {\n",
       "        vertical-align: middle;\n",
       "    }\n",
       "\n",
       "    .dataframe tbody tr th {\n",
       "        vertical-align: top;\n",
       "    }\n",
       "\n",
       "    .dataframe thead th {\n",
       "        text-align: right;\n",
       "    }\n",
       "</style>\n",
       "<table border=\"1\" class=\"dataframe\">\n",
       "  <thead>\n",
       "    <tr style=\"text-align: right;\">\n",
       "      <th></th>\n",
       "      <th>Mobile country code</th>\n",
       "      <th>Country</th>\n",
       "      <th>ISO 3166</th>\n",
       "      <th>Mobile network codes</th>\n",
       "      <th>National MNC authority</th>\n",
       "      <th>Remarks</th>\n",
       "    </tr>\n",
       "  </thead>\n",
       "  <tbody>\n",
       "    <tr>\n",
       "      <th>0</th>\n",
       "      <td>289</td>\n",
       "      <td>A Abkhazia</td>\n",
       "      <td>GE-AB</td>\n",
       "      <td>List of mobile network codes in Abkhazia</td>\n",
       "      <td>NaN</td>\n",
       "      <td>MCC is not listed by ITU</td>\n",
       "    </tr>\n",
       "    <tr>\n",
       "      <th>1</th>\n",
       "      <td>412</td>\n",
       "      <td>Afghanistan</td>\n",
       "      <td>AF</td>\n",
       "      <td>List of mobile network codes in Afghanistan</td>\n",
       "      <td>NaN</td>\n",
       "      <td>NaN</td>\n",
       "    </tr>\n",
       "    <tr>\n",
       "      <th>2</th>\n",
       "      <td>276</td>\n",
       "      <td>Albania</td>\n",
       "      <td>AL</td>\n",
       "      <td>List of mobile network codes in Albania</td>\n",
       "      <td>NaN</td>\n",
       "      <td>NaN</td>\n",
       "    </tr>\n",
       "    <tr>\n",
       "      <th>3</th>\n",
       "      <td>603</td>\n",
       "      <td>Algeria</td>\n",
       "      <td>DZ</td>\n",
       "      <td>List of mobile network codes in Algeria</td>\n",
       "      <td>NaN</td>\n",
       "      <td>NaN</td>\n",
       "    </tr>\n",
       "    <tr>\n",
       "      <th>4</th>\n",
       "      <td>544</td>\n",
       "      <td>American Samoa (United States of America)</td>\n",
       "      <td>AS</td>\n",
       "      <td>List of mobile network codes in American Samoa</td>\n",
       "      <td>NaN</td>\n",
       "      <td>NaN</td>\n",
       "    </tr>\n",
       "    <tr>\n",
       "      <th>...</th>\n",
       "      <td>...</td>\n",
       "      <td>...</td>\n",
       "      <td>...</td>\n",
       "      <td>...</td>\n",
       "      <td>...</td>\n",
       "      <td>...</td>\n",
       "    </tr>\n",
       "    <tr>\n",
       "      <th>247</th>\n",
       "      <td>452</td>\n",
       "      <td>Vietnam</td>\n",
       "      <td>VN</td>\n",
       "      <td>List of mobile network codes in the Vietnam</td>\n",
       "      <td>NaN</td>\n",
       "      <td>NaN</td>\n",
       "    </tr>\n",
       "    <tr>\n",
       "      <th>248</th>\n",
       "      <td>543</td>\n",
       "      <td>W Wallis and Futuna</td>\n",
       "      <td>WF</td>\n",
       "      <td>List of mobile network codes in Wallis and Futuna</td>\n",
       "      <td>NaN</td>\n",
       "      <td>NaN</td>\n",
       "    </tr>\n",
       "    <tr>\n",
       "      <th>249</th>\n",
       "      <td>421</td>\n",
       "      <td>Y Yemen</td>\n",
       "      <td>YE</td>\n",
       "      <td>List of mobile network codes in the Yemen</td>\n",
       "      <td>NaN</td>\n",
       "      <td>NaN</td>\n",
       "    </tr>\n",
       "    <tr>\n",
       "      <th>250</th>\n",
       "      <td>645</td>\n",
       "      <td>Z Zambia</td>\n",
       "      <td>ZM</td>\n",
       "      <td>List of mobile network codes in Zambia</td>\n",
       "      <td>NaN</td>\n",
       "      <td>NaN</td>\n",
       "    </tr>\n",
       "    <tr>\n",
       "      <th>251</th>\n",
       "      <td>648</td>\n",
       "      <td>Zimbabwe</td>\n",
       "      <td>ZW</td>\n",
       "      <td>List of mobile network codes in Zimbabwe</td>\n",
       "      <td>NaN</td>\n",
       "      <td>NaN</td>\n",
       "    </tr>\n",
       "  </tbody>\n",
       "</table>\n",
       "<p>252 rows × 6 columns</p>\n",
       "</div>"
      ],
      "text/plain": [
       "     Mobile country code                                    Country ISO 3166  \\\n",
       "0                    289                                 A Abkhazia    GE-AB   \n",
       "1                    412                                Afghanistan       AF   \n",
       "2                    276                                    Albania       AL   \n",
       "3                    603                                    Algeria       DZ   \n",
       "4                    544  American Samoa (United States of America)       AS   \n",
       "..                   ...                                        ...      ...   \n",
       "247                  452                                    Vietnam       VN   \n",
       "248                  543                        W Wallis and Futuna       WF   \n",
       "249                  421                                    Y Yemen       YE   \n",
       "250                  645                                   Z Zambia       ZM   \n",
       "251                  648                                   Zimbabwe       ZW   \n",
       "\n",
       "                                  Mobile network codes National MNC authority  \\\n",
       "0             List of mobile network codes in Abkhazia                    NaN   \n",
       "1          List of mobile network codes in Afghanistan                    NaN   \n",
       "2              List of mobile network codes in Albania                    NaN   \n",
       "3              List of mobile network codes in Algeria                    NaN   \n",
       "4       List of mobile network codes in American Samoa                    NaN   \n",
       "..                                                 ...                    ...   \n",
       "247        List of mobile network codes in the Vietnam                    NaN   \n",
       "248  List of mobile network codes in Wallis and Futuna                    NaN   \n",
       "249          List of mobile network codes in the Yemen                    NaN   \n",
       "250             List of mobile network codes in Zambia                    NaN   \n",
       "251           List of mobile network codes in Zimbabwe                    NaN   \n",
       "\n",
       "                      Remarks  \n",
       "0    MCC is not listed by ITU  \n",
       "1                         NaN  \n",
       "2                         NaN  \n",
       "3                         NaN  \n",
       "4                         NaN  \n",
       "..                        ...  \n",
       "247                       NaN  \n",
       "248                       NaN  \n",
       "249                       NaN  \n",
       "250                       NaN  \n",
       "251                       NaN  \n",
       "\n",
       "[252 rows x 6 columns]"
      ]
     },
     "execution_count": 12,
     "metadata": {},
     "output_type": "execute_result"
    }
   ],
   "source": [
    "## Reading data from an HTML site with multiple tables, then matching the url to the exact table we want\n",
    "url=\"https://en.wikipedia.org/wiki/Mobile_country_code\"\n",
    "## the 'match' method is used to match the url with a column header available in the table we want\n",
    "pd.read_html(url,match=\"Country\",header=0)[0]\n",
    "#'[0]' above is used to get from the headers of the table\n"
   ]
  },
  {
   "cell_type": "code",
   "execution_count": 14,
   "id": "a173f735",
   "metadata": {},
   "outputs": [
    {
     "name": "stdout",
     "output_type": "stream",
     "text": [
      "Collecting openpyxl\n",
      "  Downloading openpyxl-3.1.5-py2.py3-none-any.whl.metadata (2.5 kB)\n",
      "Collecting et-xmlfile (from openpyxl)\n",
      "  Downloading et_xmlfile-2.0.0-py3-none-any.whl.metadata (2.7 kB)\n",
      "Downloading openpyxl-3.1.5-py2.py3-none-any.whl (250 kB)\n",
      "Downloading et_xmlfile-2.0.0-py3-none-any.whl (18 kB)\n",
      "Installing collected packages: et-xmlfile, openpyxl\n",
      "Successfully installed et-xmlfile-2.0.0 openpyxl-3.1.5\n"
     ]
    }
   ],
   "source": [
    "## To read data from an excel workbook, we need to first install \"openpyxl\"\n",
    "!pip install openpyxl"
   ]
  },
  {
   "cell_type": "code",
   "execution_count": 15,
   "id": "2631e205",
   "metadata": {},
   "outputs": [],
   "source": [
    "## Reading data from an Excel Workbook\n",
    "df_excel=pd.read_excel('sample_data.xlsx')\n"
   ]
  },
  {
   "cell_type": "code",
   "execution_count": 16,
   "id": "b92c03f6",
   "metadata": {},
   "outputs": [
    {
     "data": {
      "application/vnd.microsoft.datawrangler.viewer.v0+json": {
       "columns": [
        {
         "name": "index",
         "rawType": "int64",
         "type": "integer"
        },
        {
         "name": "Name",
         "rawType": "object",
         "type": "string"
        },
        {
         "name": "Age",
         "rawType": "int64",
         "type": "integer"
        }
       ],
       "conversionMethod": "pd.DataFrame",
       "ref": "e498ec5c-3bff-4ec6-93f7-736a5b2f96a6",
       "rows": [
        [
         "0",
         "John",
         "32"
        ],
        [
         "1",
         "Jack",
         "23"
        ],
        [
         "2",
         "Jane",
         "25"
        ],
        [
         "3",
         "Doe",
         "34"
        ]
       ],
       "shape": {
        "columns": 2,
        "rows": 4
       }
      },
      "text/html": [
       "<div>\n",
       "<style scoped>\n",
       "    .dataframe tbody tr th:only-of-type {\n",
       "        vertical-align: middle;\n",
       "    }\n",
       "\n",
       "    .dataframe tbody tr th {\n",
       "        vertical-align: top;\n",
       "    }\n",
       "\n",
       "    .dataframe thead th {\n",
       "        text-align: right;\n",
       "    }\n",
       "</style>\n",
       "<table border=\"1\" class=\"dataframe\">\n",
       "  <thead>\n",
       "    <tr style=\"text-align: right;\">\n",
       "      <th></th>\n",
       "      <th>Name</th>\n",
       "      <th>Age</th>\n",
       "    </tr>\n",
       "  </thead>\n",
       "  <tbody>\n",
       "    <tr>\n",
       "      <th>0</th>\n",
       "      <td>John</td>\n",
       "      <td>32</td>\n",
       "    </tr>\n",
       "    <tr>\n",
       "      <th>1</th>\n",
       "      <td>Jack</td>\n",
       "      <td>23</td>\n",
       "    </tr>\n",
       "    <tr>\n",
       "      <th>2</th>\n",
       "      <td>Jane</td>\n",
       "      <td>25</td>\n",
       "    </tr>\n",
       "    <tr>\n",
       "      <th>3</th>\n",
       "      <td>Doe</td>\n",
       "      <td>34</td>\n",
       "    </tr>\n",
       "  </tbody>\n",
       "</table>\n",
       "</div>"
      ],
      "text/plain": [
       "   Name  Age\n",
       "0  John   32\n",
       "1  Jack   23\n",
       "2  Jane   25\n",
       "3   Doe   34"
      ]
     },
     "execution_count": 16,
     "metadata": {},
     "output_type": "execute_result"
    }
   ],
   "source": [
    "df_excel"
   ]
  },
  {
   "cell_type": "code",
   "execution_count": 17,
   "id": "c1ce98f1",
   "metadata": {},
   "outputs": [],
   "source": [
    "### Converting excel data into  a Pickle file\n",
    "df_excel.to_pickle('df_excel')"
   ]
  },
  {
   "cell_type": "code",
   "execution_count": 18,
   "id": "0ef20c49",
   "metadata": {},
   "outputs": [
    {
     "data": {
      "application/vnd.microsoft.datawrangler.viewer.v0+json": {
       "columns": [
        {
         "name": "index",
         "rawType": "int64",
         "type": "integer"
        },
        {
         "name": "Name",
         "rawType": "object",
         "type": "string"
        },
        {
         "name": "Age",
         "rawType": "int64",
         "type": "integer"
        }
       ],
       "conversionMethod": "pd.DataFrame",
       "ref": "48cfd0d9-7ac3-40f5-82da-a71323c3d83e",
       "rows": [
        [
         "0",
         "John",
         "32"
        ],
        [
         "1",
         "Jack",
         "23"
        ],
        [
         "2",
         "Jane",
         "25"
        ],
        [
         "3",
         "Doe",
         "34"
        ]
       ],
       "shape": {
        "columns": 2,
        "rows": 4
       }
      },
      "text/html": [
       "<div>\n",
       "<style scoped>\n",
       "    .dataframe tbody tr th:only-of-type {\n",
       "        vertical-align: middle;\n",
       "    }\n",
       "\n",
       "    .dataframe tbody tr th {\n",
       "        vertical-align: top;\n",
       "    }\n",
       "\n",
       "    .dataframe thead th {\n",
       "        text-align: right;\n",
       "    }\n",
       "</style>\n",
       "<table border=\"1\" class=\"dataframe\">\n",
       "  <thead>\n",
       "    <tr style=\"text-align: right;\">\n",
       "      <th></th>\n",
       "      <th>Name</th>\n",
       "      <th>Age</th>\n",
       "    </tr>\n",
       "  </thead>\n",
       "  <tbody>\n",
       "    <tr>\n",
       "      <th>0</th>\n",
       "      <td>John</td>\n",
       "      <td>32</td>\n",
       "    </tr>\n",
       "    <tr>\n",
       "      <th>1</th>\n",
       "      <td>Jack</td>\n",
       "      <td>23</td>\n",
       "    </tr>\n",
       "    <tr>\n",
       "      <th>2</th>\n",
       "      <td>Jane</td>\n",
       "      <td>25</td>\n",
       "    </tr>\n",
       "    <tr>\n",
       "      <th>3</th>\n",
       "      <td>Doe</td>\n",
       "      <td>34</td>\n",
       "    </tr>\n",
       "  </tbody>\n",
       "</table>\n",
       "</div>"
      ],
      "text/plain": [
       "   Name  Age\n",
       "0  John   32\n",
       "1  Jack   23\n",
       "2  Jane   25\n",
       "3   Doe   34"
      ]
     },
     "execution_count": 18,
     "metadata": {},
     "output_type": "execute_result"
    }
   ],
   "source": [
    "### Reading a pickle file\n",
    "pd.read_pickle('df_excel')\n"
   ]
  },
  {
   "cell_type": "code",
   "execution_count": null,
   "id": "bca2d5ac",
   "metadata": {},
   "outputs": [],
   "source": []
  },
  {
   "cell_type": "code",
   "execution_count": null,
   "id": "7ac7a354",
   "metadata": {},
   "outputs": [],
   "source": []
  },
  {
   "cell_type": "code",
   "execution_count": null,
   "id": "c1d0fde0",
   "metadata": {},
   "outputs": [],
   "source": []
  },
  {
   "cell_type": "code",
   "execution_count": null,
   "id": "7fc63d5e",
   "metadata": {},
   "outputs": [],
   "source": []
  }
 ],
 "metadata": {
  "kernelspec": {
   "display_name": "Python 3",
   "language": "python",
   "name": "python3"
  },
  "language_info": {
   "codemirror_mode": {
    "name": "ipython",
    "version": 3
   },
   "file_extension": ".py",
   "mimetype": "text/x-python",
   "name": "python",
   "nbconvert_exporter": "python",
   "pygments_lexer": "ipython3",
   "version": "3.12.0"
  }
 },
 "nbformat": 4,
 "nbformat_minor": 5
}
