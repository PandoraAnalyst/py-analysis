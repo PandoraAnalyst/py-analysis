{
 "cells": [
  {
   "cell_type": "markdown",
   "id": "39efc9d6",
   "metadata": {},
   "source": [
    "### NumPy Excersises"
   ]
  },
  {
   "cell_type": "code",
   "execution_count": 3,
   "id": "5dfdf0ad",
   "metadata": {},
   "outputs": [],
   "source": [
    "## importing Numpy\n",
    "import numpy as np"
   ]
  },
  {
   "cell_type": "code",
   "execution_count": null,
   "id": "b448c58f",
   "metadata": {},
   "outputs": [
    {
     "name": "stdout",
     "output_type": "stream",
     "text": [
      "[1 2 3 4 5]\n",
      "(5,)\n"
     ]
    }
   ],
   "source": [
    "## creating a 1D array\n",
    "arr1 = np.array([1,2,3,4,5])  ## creates an array of n dimension\n",
    "print(arr1)\n",
    "print(arr1.shape) ## prints the shape of the array, whether 1D, 2D, 3D\n",
    "\n",
    "'''\n",
    " When the shape of array returns in (), the number(s) inside explains what tyoe of array it is.\n",
    " For e.g, as our example, we got (5,). This means a 1D array.\n",
    "'''"
   ]
  },
  {
   "cell_type": "code",
   "execution_count": null,
   "id": "30ee4317",
   "metadata": {},
   "outputs": [
    {
     "name": "stdout",
     "output_type": "stream",
     "text": [
      "[[1 2 3 4 5]\n",
      " [2 3 4 5 6]]\n",
      "(2, 5)\n"
     ]
    }
   ],
   "source": [
    "## 2d array\n",
    "arr2=np.array([[1,2,3,4,5],[2,3,4,5,6]])\n",
    "print(arr2)\n",
    "print(arr2.shape)\n",
    "\n",
    "'''\n",
    "Here, we got (2,5). This means a 2D array with 2 Rows & 5 Colums.\n",
    "'''"
   ]
  },
  {
   "cell_type": "code",
   "execution_count": null,
   "id": "af888c7a",
   "metadata": {},
   "outputs": [],
   "source": []
  },
  {
   "cell_type": "code",
   "execution_count": null,
   "id": "35463780",
   "metadata": {},
   "outputs": [],
   "source": []
  }
 ],
 "metadata": {
  "kernelspec": {
   "display_name": "Python 3",
   "language": "python",
   "name": "python3"
  },
  "language_info": {
   "codemirror_mode": {
    "name": "ipython",
    "version": 3
   },
   "file_extension": ".py",
   "mimetype": "text/x-python",
   "name": "python",
   "nbconvert_exporter": "python",
   "pygments_lexer": "ipython3",
   "version": "3.12.0"
  }
 },
 "nbformat": 4,
 "nbformat_minor": 5
}
